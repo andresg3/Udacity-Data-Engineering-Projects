{
 "cells": [
  {
   "cell_type": "code",
   "execution_count": 5,
   "metadata": {},
   "outputs": [
    {
     "name": "stdout",
     "output_type": "stream",
     "text": [
      "3.21.0\n"
     ]
    }
   ],
   "source": [
    "import pandas as pd\n",
    "# validate installation of DataStax Python Driver\n",
    "import cassandra\n",
    "print(cassandra.__version__)"
   ]
  },
  {
   "cell_type": "code",
   "execution_count": 6,
   "metadata": {},
   "outputs": [
    {
     "name": "stdout",
     "output_type": "stream",
     "text": [
      "Connection Established !!\n",
      "Row(release_version='2.1.2')\n"
     ]
    }
   ],
   "source": [
    "from cassandra.cluster import Cluster\n",
    "try:\n",
    "    cluster = Cluster(['cassandra-app01.stage.3cinteractive.com'], protocol_version=3)\n",
    "    session = cluster.connect()\n",
    "    print(\"Connection Established !!\")\n",
    "    print(session.execute(\"SELECT release_version FROM system.local\").one())\n",
    "except Exception as e:\n",
    "    print(f\"Connection Failed !! Error : {e}\")"
   ]
  },
  {
   "cell_type": "code",
   "execution_count": 13,
   "metadata": {},
   "outputs": [],
   "source": [
    "def pandas_factory(colnames, rows):\n",
    "    return pd.DataFrame(rows, columns=colnames)\n",
    "\n",
    "session.row_factory = pandas_factory\n",
    "session.default_fetch_size = None\n",
    "\n",
    "query = \"select transactiondetailid, type from dcb.transactiondetail_test\"\n",
    "rslt = session.execute(query, timeout=None)\n",
    "df = rslt._current_rows"
   ]
  },
  {
   "cell_type": "code",
   "execution_count": 20,
   "metadata": {},
   "outputs": [],
   "source": [
    "df_small = df.head()"
   ]
  },
  {
   "cell_type": "code",
   "execution_count": 46,
   "metadata": {},
   "outputs": [
    {
     "name": "stdout",
     "output_type": "stream",
     "text": [
      "DELETE FROM dcb.transactiondetail_test WHERE transactiondetailid=d92aaadb-b6b7-11e4-99db-39da76cdca3a AND \"type\"='CREATE';\n",
      "\n",
      "DELETE FROM dcb.transactiondetail_test WHERE transactiondetailid=ae8edb6f-8d99-11e7-b092-6d68fcf380be AND \"type\"='CREATE';\n",
      "\n",
      "DELETE FROM dcb.transactiondetail_test WHERE transactiondetailid=e44640e9-932d-11e7-b092-6d68fcf380be AND \"type\"='CREATE';\n",
      "\n",
      "DELETE FROM dcb.transactiondetail_test WHERE transactiondetailid=c9039f80-4b51-11e5-a2bc-e3aa68bade5e AND \"type\"='CREATE';\n",
      "\n",
      "DELETE FROM dcb.transactiondetail_test WHERE transactiondetailid=7a71742b-e9dd-11e8-a124-a37e4ef4dd35 AND \"type\"='CREATE';\n",
      "\n"
     ]
    }
   ],
   "source": [
    "# DELETE FROM dcb.transactiondetail_test WHERE transactiondetailid=? AND \"type\"='';\n",
    "for i, row in df_small.iterrows():\n",
    "    print('DELETE FROM dcb.transactiondetail_test WHERE transactiondetailid='+str(row[0])+' AND \"type\"=\\''+row[1]+'\\';\\n')"
   ]
  },
  {
   "cell_type": "code",
   "execution_count": 23,
   "metadata": {},
   "outputs": [
    {
     "data": {
      "text/html": [
       "<div>\n",
       "<style scoped>\n",
       "    .dataframe tbody tr th:only-of-type {\n",
       "        vertical-align: middle;\n",
       "    }\n",
       "\n",
       "    .dataframe tbody tr th {\n",
       "        vertical-align: top;\n",
       "    }\n",
       "\n",
       "    .dataframe thead th {\n",
       "        text-align: right;\n",
       "    }\n",
       "</style>\n",
       "<table border=\"1\" class=\"dataframe\">\n",
       "  <thead>\n",
       "    <tr style=\"text-align: right;\">\n",
       "      <th></th>\n",
       "      <th>transactiondetailid</th>\n",
       "      <th>type</th>\n",
       "    </tr>\n",
       "  </thead>\n",
       "  <tbody>\n",
       "    <tr>\n",
       "      <td>0</td>\n",
       "      <td>d92aaadb-b6b7-11e4-99db-39da76cdca3a</td>\n",
       "      <td>CREATE</td>\n",
       "    </tr>\n",
       "    <tr>\n",
       "      <td>1</td>\n",
       "      <td>ae8edb6f-8d99-11e7-b092-6d68fcf380be</td>\n",
       "      <td>CREATE</td>\n",
       "    </tr>\n",
       "    <tr>\n",
       "      <td>2</td>\n",
       "      <td>e44640e9-932d-11e7-b092-6d68fcf380be</td>\n",
       "      <td>CREATE</td>\n",
       "    </tr>\n",
       "    <tr>\n",
       "      <td>3</td>\n",
       "      <td>c9039f80-4b51-11e5-a2bc-e3aa68bade5e</td>\n",
       "      <td>CREATE</td>\n",
       "    </tr>\n",
       "    <tr>\n",
       "      <td>4</td>\n",
       "      <td>7a71742b-e9dd-11e8-a124-a37e4ef4dd35</td>\n",
       "      <td>CREATE</td>\n",
       "    </tr>\n",
       "  </tbody>\n",
       "</table>\n",
       "</div>"
      ],
      "text/plain": [
       "                    transactiondetailid    type\n",
       "0  d92aaadb-b6b7-11e4-99db-39da76cdca3a  CREATE\n",
       "1  ae8edb6f-8d99-11e7-b092-6d68fcf380be  CREATE\n",
       "2  e44640e9-932d-11e7-b092-6d68fcf380be  CREATE\n",
       "3  c9039f80-4b51-11e5-a2bc-e3aa68bade5e  CREATE\n",
       "4  7a71742b-e9dd-11e8-a124-a37e4ef4dd35  CREATE"
      ]
     },
     "execution_count": 23,
     "metadata": {},
     "output_type": "execute_result"
    }
   ],
   "source": [
    "df_small"
   ]
  },
  {
   "cell_type": "code",
   "execution_count": 47,
   "metadata": {},
   "outputs": [],
   "source": [
    "f = open(\"demofile2.txt\", \"a\")\n",
    "for i, row in df_small.iterrows():\n",
    "    f.write('DELETE FROM dcb.transactiondetail_test WHERE transactiondetailid='+str(row[0])+' AND \"type\"=\\''+row[1]+'\\';\\n')\n",
    "f.close()"
   ]
  },
  {
   "cell_type": "code",
   "execution_count": 49,
   "metadata": {},
   "outputs": [],
   "source": [
    "# generating the larger file\n",
    "f = open(\"dcb_deletes_stage.cql\", \"a\")\n",
    "for i, row in df.iterrows():\n",
    "    f.write('DELETE FROM dcb.transactiondetail_test WHERE transactiondetailid='+str(row[0])+' AND \"type\"=\\''+row[1]+'\\';\\n')\n",
    "f.close()"
   ]
  },
  {
   "cell_type": "code",
   "execution_count": 48,
   "metadata": {},
   "outputs": [
    {
     "data": {
      "text/html": [
       "<div>\n",
       "<style scoped>\n",
       "    .dataframe tbody tr th:only-of-type {\n",
       "        vertical-align: middle;\n",
       "    }\n",
       "\n",
       "    .dataframe tbody tr th {\n",
       "        vertical-align: top;\n",
       "    }\n",
       "\n",
       "    .dataframe thead th {\n",
       "        text-align: right;\n",
       "    }\n",
       "</style>\n",
       "<table border=\"1\" class=\"dataframe\">\n",
       "  <thead>\n",
       "    <tr style=\"text-align: right;\">\n",
       "      <th></th>\n",
       "      <th>transactiondetailid</th>\n",
       "      <th>type</th>\n",
       "    </tr>\n",
       "  </thead>\n",
       "  <tbody>\n",
       "    <tr>\n",
       "      <td>0</td>\n",
       "      <td>d92aaadb-b6b7-11e4-99db-39da76cdca3a</td>\n",
       "      <td>CREATE</td>\n",
       "    </tr>\n",
       "    <tr>\n",
       "      <td>1</td>\n",
       "      <td>ae8edb6f-8d99-11e7-b092-6d68fcf380be</td>\n",
       "      <td>CREATE</td>\n",
       "    </tr>\n",
       "    <tr>\n",
       "      <td>2</td>\n",
       "      <td>e44640e9-932d-11e7-b092-6d68fcf380be</td>\n",
       "      <td>CREATE</td>\n",
       "    </tr>\n",
       "    <tr>\n",
       "      <td>3</td>\n",
       "      <td>c9039f80-4b51-11e5-a2bc-e3aa68bade5e</td>\n",
       "      <td>CREATE</td>\n",
       "    </tr>\n",
       "    <tr>\n",
       "      <td>4</td>\n",
       "      <td>7a71742b-e9dd-11e8-a124-a37e4ef4dd35</td>\n",
       "      <td>CREATE</td>\n",
       "    </tr>\n",
       "    <tr>\n",
       "      <td>...</td>\n",
       "      <td>...</td>\n",
       "      <td>...</td>\n",
       "    </tr>\n",
       "    <tr>\n",
       "      <td>6412</td>\n",
       "      <td>a244277e-366d-11e7-a3c9-d72a94b8394a</td>\n",
       "      <td>CREATE</td>\n",
       "    </tr>\n",
       "    <tr>\n",
       "      <td>6413</td>\n",
       "      <td>9f96298b-9722-11e7-b092-6d68fcf380be</td>\n",
       "      <td>CREATE</td>\n",
       "    </tr>\n",
       "    <tr>\n",
       "      <td>6414</td>\n",
       "      <td>d84c581c-e138-11e8-a124-a37e4ef4dd35</td>\n",
       "      <td>CREATE</td>\n",
       "    </tr>\n",
       "    <tr>\n",
       "      <td>6415</td>\n",
       "      <td>63deedad-a6be-11e6-948f-f7e347902939</td>\n",
       "      <td>CREATE</td>\n",
       "    </tr>\n",
       "    <tr>\n",
       "      <td>6416</td>\n",
       "      <td>83375978-95b2-11e8-8f7f-f57143de12c7</td>\n",
       "      <td>CREATE</td>\n",
       "    </tr>\n",
       "  </tbody>\n",
       "</table>\n",
       "<p>6417 rows × 2 columns</p>\n",
       "</div>"
      ],
      "text/plain": [
       "                       transactiondetailid    type\n",
       "0     d92aaadb-b6b7-11e4-99db-39da76cdca3a  CREATE\n",
       "1     ae8edb6f-8d99-11e7-b092-6d68fcf380be  CREATE\n",
       "2     e44640e9-932d-11e7-b092-6d68fcf380be  CREATE\n",
       "3     c9039f80-4b51-11e5-a2bc-e3aa68bade5e  CREATE\n",
       "4     7a71742b-e9dd-11e8-a124-a37e4ef4dd35  CREATE\n",
       "...                                    ...     ...\n",
       "6412  a244277e-366d-11e7-a3c9-d72a94b8394a  CREATE\n",
       "6413  9f96298b-9722-11e7-b092-6d68fcf380be  CREATE\n",
       "6414  d84c581c-e138-11e8-a124-a37e4ef4dd35  CREATE\n",
       "6415  63deedad-a6be-11e6-948f-f7e347902939  CREATE\n",
       "6416  83375978-95b2-11e8-8f7f-f57143de12c7  CREATE\n",
       "\n",
       "[6417 rows x 2 columns]"
      ]
     },
     "execution_count": 48,
     "metadata": {},
     "output_type": "execute_result"
    }
   ],
   "source": []
  },
  {
   "cell_type": "code",
   "execution_count": null,
   "metadata": {},
   "outputs": [],
   "source": []
  },
  {
   "cell_type": "code",
   "execution_count": null,
   "metadata": {},
   "outputs": [],
   "source": []
  },
  {
   "cell_type": "code",
   "execution_count": null,
   "metadata": {},
   "outputs": [],
   "source": []
  },
  {
   "cell_type": "code",
   "execution_count": null,
   "metadata": {},
   "outputs": [],
   "source": []
  }
 ],
 "metadata": {
  "anaconda-cloud": {},
  "kernelspec": {
   "display_name": "Python 3",
   "language": "python",
   "name": "python3"
  },
  "language_info": {
   "codemirror_mode": {
    "name": "ipython",
    "version": 3
   },
   "file_extension": ".py",
   "mimetype": "text/x-python",
   "name": "python",
   "nbconvert_exporter": "python",
   "pygments_lexer": "ipython3",
   "version": "3.7.4"
  }
 },
 "nbformat": 4,
 "nbformat_minor": 1
}
