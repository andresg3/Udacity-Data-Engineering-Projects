{
 "cells": [
  {
   "cell_type": "markdown",
   "metadata": {},
   "source": [
    "# Create and Load DB Schema"
   ]
  },
  {
   "cell_type": "code",
   "execution_count": 5,
   "metadata": {},
   "outputs": [],
   "source": [
    "import psycopg2\n",
    "from sql_queries import create_table_queries, drop_table_queries"
   ]
  },
  {
   "cell_type": "code",
   "execution_count": 6,
   "metadata": {},
   "outputs": [],
   "source": [
    "# create connection\n",
    "conn = psycopg2.connect(\"host=127.0.0.1 dbname=postgres user=postgres password=postgres\")\n",
    "conn.set_session(autocommit=True)\n",
    "cur = conn.cursor()"
   ]
  },
  {
   "cell_type": "code",
   "execution_count": 7,
   "metadata": {},
   "outputs": [],
   "source": [
    "# create sparkify database with UTF8 encoding\n",
    "cur.execute(\"DROP DATABASE IF EXISTS sparkifydb\")\n",
    "cur.execute(\"CREATE DATABASE sparkifydb WITH ENCODING 'utf8' TEMPLATE template0\")"
   ]
  },
  {
   "cell_type": "code",
   "execution_count": 8,
   "metadata": {},
   "outputs": [],
   "source": [
    "# close connection to default database\n",
    "conn.close() "
   ]
  },
  {
   "cell_type": "code",
   "execution_count": 9,
   "metadata": {},
   "outputs": [],
   "source": [
    "# open connection to newly created db\n",
    "conn = psycopg2.connect(\"host=127.0.0.1 dbname=sparkifydb user=postgres password=postgres\")\n",
    "cur = conn.cursor()"
   ]
  },
  {
   "cell_type": "code",
   "execution_count": 10,
   "metadata": {},
   "outputs": [],
   "source": [
    "# run drop statements\n",
    "for query in drop_table_queries:\n",
    "    cur.execute(query)\n",
    "    conn.commit()"
   ]
  },
  {
   "cell_type": "code",
   "execution_count": 11,
   "metadata": {},
   "outputs": [],
   "source": [
    "# run create statements \n",
    "for query in create_table_queries:\n",
    "    cur.execute(query)\n",
    "    conn.commit()"
   ]
  },
  {
   "cell_type": "code",
   "execution_count": 225,
   "metadata": {},
   "outputs": [],
   "source": [
    "conn.close()"
   ]
  },
  {
   "cell_type": "markdown",
   "metadata": {},
   "source": [
    "\n",
    "# ETL Process\n",
    "# Process song_data"
   ]
  },
  {
   "cell_type": "code",
   "execution_count": 12,
   "metadata": {},
   "outputs": [],
   "source": [
    "import os\n",
    "import glob\n",
    "import psycopg2\n",
    "import pandas as pd\n",
    "from sql_queries import *"
   ]
  },
  {
   "cell_type": "code",
   "execution_count": 355,
   "metadata": {},
   "outputs": [],
   "source": [
    "conn = psycopg2.connect(\"host=127.0.0.1 dbname=sparkifydb user=postgres password=postgres\")\n",
    "cur = conn.cursor()"
   ]
  },
  {
   "cell_type": "code",
   "execution_count": 65,
   "metadata": {},
   "outputs": [],
   "source": [
    "# function to get list of all song JSON files in filepath\n",
    "\n",
    "def get_files(filepath):\n",
    "    all_files = []\n",
    "    for root, dirs, files in os.walk(filepath):\n",
    "        files = glob.glob(os.path.join(root,'*.json'))\n",
    "        for f in files :\n",
    "            all_files.append(os.path.abspath(f))\n",
    "    \n",
    "    return all_files"
   ]
  },
  {
   "cell_type": "code",
   "execution_count": 66,
   "metadata": {},
   "outputs": [],
   "source": [
    "song_files = get_files('data/song_data')"
   ]
  },
  {
   "cell_type": "code",
   "execution_count": 415,
   "metadata": {},
   "outputs": [
    {
     "data": {
      "text/plain": [
       "['/Users/ggranda/Dropbox/data_eng/Postgres/udacity_Data_Modeling_with_Postgres/data/song_data/A/A/A/TRAAAEF128F4273421.json',\n",
       " '/Users/ggranda/Dropbox/data_eng/Postgres/udacity_Data_Modeling_with_Postgres/data/song_data/A/A/A/TRAAARJ128F9320760.json',\n",
       " '/Users/ggranda/Dropbox/data_eng/Postgres/udacity_Data_Modeling_with_Postgres/data/song_data/A/A/A/TRAAAFD128F92F423A.json',\n",
       " '/Users/ggranda/Dropbox/data_eng/Postgres/udacity_Data_Modeling_with_Postgres/data/song_data/A/A/A/TRAAAPK128E0786D96.json',\n",
       " '/Users/ggranda/Dropbox/data_eng/Postgres/udacity_Data_Modeling_with_Postgres/data/song_data/A/A/A/TRAAABD128F429CF47.json',\n",
       " '/Users/ggranda/Dropbox/data_eng/Postgres/udacity_Data_Modeling_with_Postgres/data/song_data/A/A/A/TRAAAAW128F429D538.json',\n",
       " '/Users/ggranda/Dropbox/data_eng/Postgres/udacity_Data_Modeling_with_Postgres/data/song_data/A/A/A/TRAAADZ128F9348C2E.json',\n",
       " '/Users/ggranda/Dropbox/data_eng/Postgres/udacity_Data_Modeling_with_Postgres/data/song_data/A/A/A/TRAAAVG12903CFA543.json',\n",
       " '/Users/ggranda/Dropbox/data_eng/Postgres/udacity_Data_Modeling_with_Postgres/data/song_data/A/A/A/TRAAAMO128F1481E7F.json',\n",
       " '/Users/ggranda/Dropbox/data_eng/Postgres/udacity_Data_Modeling_with_Postgres/data/song_data/A/A/A/TRAAAMQ128F1460CD3.json',\n",
       " '/Users/ggranda/Dropbox/data_eng/Postgres/udacity_Data_Modeling_with_Postgres/data/song_data/A/A/C/TRAACOW128F933E35F.json',\n",
       " '/Users/ggranda/Dropbox/data_eng/Postgres/udacity_Data_Modeling_with_Postgres/data/song_data/A/A/C/TRAACPE128F421C1B9.json',\n",
       " '/Users/ggranda/Dropbox/data_eng/Postgres/udacity_Data_Modeling_with_Postgres/data/song_data/A/A/C/TRAACFV128F935E50B.json',\n",
       " '/Users/ggranda/Dropbox/data_eng/Postgres/udacity_Data_Modeling_with_Postgres/data/song_data/A/A/C/TRAACIW12903CC0F6D.json',\n",
       " '/Users/ggranda/Dropbox/data_eng/Postgres/udacity_Data_Modeling_with_Postgres/data/song_data/A/A/C/TRAACER128F4290F96.json',\n",
       " '/Users/ggranda/Dropbox/data_eng/Postgres/udacity_Data_Modeling_with_Postgres/data/song_data/A/A/C/TRAACHN128F1489601.json',\n",
       " '/Users/ggranda/Dropbox/data_eng/Postgres/udacity_Data_Modeling_with_Postgres/data/song_data/A/A/C/TRAACLV128F427E123.json',\n",
       " '/Users/ggranda/Dropbox/data_eng/Postgres/udacity_Data_Modeling_with_Postgres/data/song_data/A/A/C/TRAACCG128F92E8A55.json',\n",
       " '/Users/ggranda/Dropbox/data_eng/Postgres/udacity_Data_Modeling_with_Postgres/data/song_data/A/A/C/TRAACQT128F9331780.json',\n",
       " '/Users/ggranda/Dropbox/data_eng/Postgres/udacity_Data_Modeling_with_Postgres/data/song_data/A/A/C/TRAACNS128F14A2DF5.json',\n",
       " '/Users/ggranda/Dropbox/data_eng/Postgres/udacity_Data_Modeling_with_Postgres/data/song_data/A/A/B/TRAABDL12903CAABBA.json',\n",
       " '/Users/ggranda/Dropbox/data_eng/Postgres/udacity_Data_Modeling_with_Postgres/data/song_data/A/A/B/TRAABXG128F9318EBD.json',\n",
       " '/Users/ggranda/Dropbox/data_eng/Postgres/udacity_Data_Modeling_with_Postgres/data/song_data/A/A/B/TRAABYN12903CFD305.json',\n",
       " '/Users/ggranda/Dropbox/data_eng/Postgres/udacity_Data_Modeling_with_Postgres/data/song_data/A/A/B/TRAABNV128F425CEE1.json',\n",
       " '/Users/ggranda/Dropbox/data_eng/Postgres/udacity_Data_Modeling_with_Postgres/data/song_data/A/A/B/TRAABJL12903CDCF1A.json',\n",
       " '/Users/ggranda/Dropbox/data_eng/Postgres/udacity_Data_Modeling_with_Postgres/data/song_data/A/A/B/TRAABCL128F4286650.json',\n",
       " '/Users/ggranda/Dropbox/data_eng/Postgres/udacity_Data_Modeling_with_Postgres/data/song_data/A/A/B/TRAABJV128F1460C49.json',\n",
       " '/Users/ggranda/Dropbox/data_eng/Postgres/udacity_Data_Modeling_with_Postgres/data/song_data/A/A/B/TRAABLR128F423B7E3.json',\n",
       " '/Users/ggranda/Dropbox/data_eng/Postgres/udacity_Data_Modeling_with_Postgres/data/song_data/A/A/B/TRAABRB128F9306DD5.json',\n",
       " '/Users/ggranda/Dropbox/data_eng/Postgres/udacity_Data_Modeling_with_Postgres/data/song_data/A/A/B/TRAABVM128F92CA9DC.json',\n",
       " '/Users/ggranda/Dropbox/data_eng/Postgres/udacity_Data_Modeling_with_Postgres/data/song_data/A/B/A/TRABAVQ12903CBF7E0.json',\n",
       " '/Users/ggranda/Dropbox/data_eng/Postgres/udacity_Data_Modeling_with_Postgres/data/song_data/A/B/A/TRABAIO128F42938F9.json',\n",
       " '/Users/ggranda/Dropbox/data_eng/Postgres/udacity_Data_Modeling_with_Postgres/data/song_data/A/B/A/TRABAWW128F4250A31.json',\n",
       " '/Users/ggranda/Dropbox/data_eng/Postgres/udacity_Data_Modeling_with_Postgres/data/song_data/A/B/A/TRABAFJ128F42AF24E.json',\n",
       " '/Users/ggranda/Dropbox/data_eng/Postgres/udacity_Data_Modeling_with_Postgres/data/song_data/A/B/A/TRABAXV128F92F6AE3.json',\n",
       " '/Users/ggranda/Dropbox/data_eng/Postgres/udacity_Data_Modeling_with_Postgres/data/song_data/A/B/A/TRABAFP128F931E9A1.json',\n",
       " '/Users/ggranda/Dropbox/data_eng/Postgres/udacity_Data_Modeling_with_Postgres/data/song_data/A/B/A/TRABAXL128F424FC50.json',\n",
       " '/Users/ggranda/Dropbox/data_eng/Postgres/udacity_Data_Modeling_with_Postgres/data/song_data/A/B/A/TRABATO128F42627E9.json',\n",
       " '/Users/ggranda/Dropbox/data_eng/Postgres/udacity_Data_Modeling_with_Postgres/data/song_data/A/B/A/TRABAXR128F426515F.json',\n",
       " '/Users/ggranda/Dropbox/data_eng/Postgres/udacity_Data_Modeling_with_Postgres/data/song_data/A/B/A/TRABACN128F425B784.json',\n",
       " '/Users/ggranda/Dropbox/data_eng/Postgres/udacity_Data_Modeling_with_Postgres/data/song_data/A/B/C/TRABCFL128F149BB0D.json',\n",
       " '/Users/ggranda/Dropbox/data_eng/Postgres/udacity_Data_Modeling_with_Postgres/data/song_data/A/B/C/TRABCAJ12903CDFCC2.json',\n",
       " '/Users/ggranda/Dropbox/data_eng/Postgres/udacity_Data_Modeling_with_Postgres/data/song_data/A/B/C/TRABCKL128F423A778.json',\n",
       " '/Users/ggranda/Dropbox/data_eng/Postgres/udacity_Data_Modeling_with_Postgres/data/song_data/A/B/C/TRABCEI128F424C983.json',\n",
       " '/Users/ggranda/Dropbox/data_eng/Postgres/udacity_Data_Modeling_with_Postgres/data/song_data/A/B/C/TRABCEC128F426456E.json',\n",
       " '/Users/ggranda/Dropbox/data_eng/Postgres/udacity_Data_Modeling_with_Postgres/data/song_data/A/B/C/TRABCUQ128E0783E2B.json',\n",
       " '/Users/ggranda/Dropbox/data_eng/Postgres/udacity_Data_Modeling_with_Postgres/data/song_data/A/B/C/TRABCRU128F423F449.json',\n",
       " '/Users/ggranda/Dropbox/data_eng/Postgres/udacity_Data_Modeling_with_Postgres/data/song_data/A/B/C/TRABCPZ128F4275C32.json',\n",
       " '/Users/ggranda/Dropbox/data_eng/Postgres/udacity_Data_Modeling_with_Postgres/data/song_data/A/B/C/TRABCIX128F4265903.json',\n",
       " '/Users/ggranda/Dropbox/data_eng/Postgres/udacity_Data_Modeling_with_Postgres/data/song_data/A/B/C/TRABCTK128F934B224.json',\n",
       " '/Users/ggranda/Dropbox/data_eng/Postgres/udacity_Data_Modeling_with_Postgres/data/song_data/A/B/B/TRABBKX128F4285205.json',\n",
       " '/Users/ggranda/Dropbox/data_eng/Postgres/udacity_Data_Modeling_with_Postgres/data/song_data/A/B/B/TRABBBV128F42967D7.json',\n",
       " '/Users/ggranda/Dropbox/data_eng/Postgres/udacity_Data_Modeling_with_Postgres/data/song_data/A/B/B/TRABBOR128F4286200.json',\n",
       " '/Users/ggranda/Dropbox/data_eng/Postgres/udacity_Data_Modeling_with_Postgres/data/song_data/A/B/B/TRABBAM128F429D223.json',\n",
       " '/Users/ggranda/Dropbox/data_eng/Postgres/udacity_Data_Modeling_with_Postgres/data/song_data/A/B/B/TRABBVJ128F92F7EAA.json',\n",
       " '/Users/ggranda/Dropbox/data_eng/Postgres/udacity_Data_Modeling_with_Postgres/data/song_data/A/B/B/TRABBTA128F933D304.json',\n",
       " '/Users/ggranda/Dropbox/data_eng/Postgres/udacity_Data_Modeling_with_Postgres/data/song_data/A/B/B/TRABBNP128F932546F.json',\n",
       " '/Users/ggranda/Dropbox/data_eng/Postgres/udacity_Data_Modeling_with_Postgres/data/song_data/A/B/B/TRABBOP128F931B50D.json',\n",
       " '/Users/ggranda/Dropbox/data_eng/Postgres/udacity_Data_Modeling_with_Postgres/data/song_data/A/B/B/TRABBLU128F93349CF.json',\n",
       " '/Users/ggranda/Dropbox/data_eng/Postgres/udacity_Data_Modeling_with_Postgres/data/song_data/A/B/B/TRABBJE12903CDB442.json']"
      ]
     },
     "execution_count": 415,
     "metadata": {},
     "output_type": "execute_result"
    }
   ],
   "source": [
    "song_files"
   ]
  },
  {
   "cell_type": "code",
   "execution_count": 68,
   "metadata": {},
   "outputs": [],
   "source": [
    "# select the first song from list\n",
    "filepath = song_files[0]"
   ]
  },
  {
   "cell_type": "code",
   "execution_count": 113,
   "metadata": {},
   "outputs": [],
   "source": [
    "# read data and load into data frame\n",
    "df = pd.DataFrame([pd.read_json(filepath, typ='series')])"
   ]
  },
  {
   "cell_type": "code",
   "execution_count": 114,
   "metadata": {},
   "outputs": [
    {
     "data": {
      "text/plain": [
       "pandas.core.frame.DataFrame"
      ]
     },
     "execution_count": 114,
     "metadata": {},
     "output_type": "execute_result"
    }
   ],
   "source": [
    "type(df)"
   ]
  },
  {
   "cell_type": "code",
   "execution_count": 115,
   "metadata": {},
   "outputs": [
    {
     "data": {
      "text/html": [
       "<div>\n",
       "<style scoped>\n",
       "    .dataframe tbody tr th:only-of-type {\n",
       "        vertical-align: middle;\n",
       "    }\n",
       "\n",
       "    .dataframe tbody tr th {\n",
       "        vertical-align: top;\n",
       "    }\n",
       "\n",
       "    .dataframe thead th {\n",
       "        text-align: right;\n",
       "    }\n",
       "</style>\n",
       "<table border=\"1\" class=\"dataframe\">\n",
       "  <thead>\n",
       "    <tr style=\"text-align: right;\">\n",
       "      <th></th>\n",
       "      <th>num_songs</th>\n",
       "      <th>artist_id</th>\n",
       "      <th>artist_latitude</th>\n",
       "      <th>artist_longitude</th>\n",
       "      <th>artist_location</th>\n",
       "      <th>artist_name</th>\n",
       "      <th>song_id</th>\n",
       "      <th>title</th>\n",
       "      <th>duration</th>\n",
       "      <th>year</th>\n",
       "    </tr>\n",
       "  </thead>\n",
       "  <tbody>\n",
       "    <tr>\n",
       "      <td>0</td>\n",
       "      <td>1</td>\n",
       "      <td>AR7G5I41187FB4CE6C</td>\n",
       "      <td>None</td>\n",
       "      <td>None</td>\n",
       "      <td>London, England</td>\n",
       "      <td>Adam Ant</td>\n",
       "      <td>SONHOTT12A8C13493C</td>\n",
       "      <td>Something Girls</td>\n",
       "      <td>233.40363</td>\n",
       "      <td>1982</td>\n",
       "    </tr>\n",
       "  </tbody>\n",
       "</table>\n",
       "</div>"
      ],
      "text/plain": [
       "   num_songs           artist_id artist_latitude artist_longitude  \\\n",
       "0          1  AR7G5I41187FB4CE6C            None             None   \n",
       "\n",
       "   artist_location artist_name             song_id            title  \\\n",
       "0  London, England    Adam Ant  SONHOTT12A8C13493C  Something Girls   \n",
       "\n",
       "    duration  year  \n",
       "0  233.40363  1982  "
      ]
     },
     "execution_count": 115,
     "metadata": {},
     "output_type": "execute_result"
    }
   ],
   "source": [
    "df.head()"
   ]
  },
  {
   "cell_type": "code",
   "execution_count": 117,
   "metadata": {},
   "outputs": [
    {
     "data": {
      "text/plain": [
       "array([[1, 'AR7G5I41187FB4CE6C', None, None, 'London, England',\n",
       "        'Adam Ant', 'SONHOTT12A8C13493C', 'Something Girls', 233.40363,\n",
       "        1982]], dtype=object)"
      ]
     },
     "execution_count": 117,
     "metadata": {},
     "output_type": "execute_result"
    }
   ],
   "source": [
    "df.values"
   ]
  },
  {
   "cell_type": "code",
   "execution_count": 78,
   "metadata": {},
   "outputs": [
    {
     "data": {
      "text/plain": [
       "num_songs             int64\n",
       "artist_id            object\n",
       "artist_latitude      object\n",
       "artist_longitude     object\n",
       "artist_location      object\n",
       "artist_name          object\n",
       "song_id              object\n",
       "title                object\n",
       "duration            float64\n",
       "year                  int64\n",
       "dtype: object"
      ]
     },
     "execution_count": 78,
     "metadata": {},
     "output_type": "execute_result"
    }
   ],
   "source": [
    "df.dtypes"
   ]
  },
  {
   "cell_type": "code",
   "execution_count": 79,
   "metadata": {},
   "outputs": [],
   "source": [
    "# assing dataframe values to variables\n",
    "num_songs, artist_id, artist_latitude, artist_longitude, artist_location, artist_name, song_id, title, duration, year = df.values[0]"
   ]
  },
  {
   "cell_type": "code",
   "execution_count": 80,
   "metadata": {},
   "outputs": [
    {
     "data": {
      "text/plain": [
       "'Adam Ant'"
      ]
     },
     "execution_count": 80,
     "metadata": {},
     "output_type": "execute_result"
    }
   ],
   "source": [
    "artist_name"
   ]
  },
  {
   "cell_type": "code",
   "execution_count": 81,
   "metadata": {},
   "outputs": [
    {
     "data": {
      "text/plain": [
       "['SONHOTT12A8C13493C',\n",
       " 'Something Girls',\n",
       " 'AR7G5I41187FB4CE6C',\n",
       " 1982,\n",
       " 233.40363]"
      ]
     },
     "execution_count": 81,
     "metadata": {},
     "output_type": "execute_result"
    }
   ],
   "source": [
    "# select the relevant values and add it to a list\n",
    "song_data = [song_id, title, artist_id, year, duration]\n",
    "song_data"
   ]
  },
  {
   "cell_type": "code",
   "execution_count": 82,
   "metadata": {},
   "outputs": [
    {
     "data": {
      "text/plain": [
       "list"
      ]
     },
     "execution_count": 82,
     "metadata": {},
     "output_type": "execute_result"
    }
   ],
   "source": [
    "type(song_data)"
   ]
  },
  {
   "cell_type": "code",
   "execution_count": 83,
   "metadata": {},
   "outputs": [
    {
     "name": "stdout",
     "output_type": "stream",
     "text": [
      "['SONHOTT12A8C13493C', 'Something Girls', 'AR7G5I41187FB4CE6C', 1982, 233.40363]\n"
     ]
    }
   ],
   "source": [
    "print(song_data)"
   ]
  },
  {
   "cell_type": "code",
   "execution_count": 84,
   "metadata": {},
   "outputs": [],
   "source": [
    "# insert Record into Song Table\n",
    "cur.execute(song_table_insert, song_data)\n",
    "conn.commit()"
   ]
  },
  {
   "cell_type": "markdown",
   "metadata": {},
   "source": [
    "### ^^^ Fails due to ForeignKeyViolation\n",
    "# Process artist data"
   ]
  },
  {
   "cell_type": "code",
   "execution_count": 85,
   "metadata": {},
   "outputs": [
    {
     "data": {
      "text/html": [
       "<div>\n",
       "<style scoped>\n",
       "    .dataframe tbody tr th:only-of-type {\n",
       "        vertical-align: middle;\n",
       "    }\n",
       "\n",
       "    .dataframe tbody tr th {\n",
       "        vertical-align: top;\n",
       "    }\n",
       "\n",
       "    .dataframe thead th {\n",
       "        text-align: right;\n",
       "    }\n",
       "</style>\n",
       "<table border=\"1\" class=\"dataframe\">\n",
       "  <thead>\n",
       "    <tr style=\"text-align: right;\">\n",
       "      <th></th>\n",
       "      <th>num_songs</th>\n",
       "      <th>artist_id</th>\n",
       "      <th>artist_latitude</th>\n",
       "      <th>artist_longitude</th>\n",
       "      <th>artist_location</th>\n",
       "      <th>artist_name</th>\n",
       "      <th>song_id</th>\n",
       "      <th>title</th>\n",
       "      <th>duration</th>\n",
       "      <th>year</th>\n",
       "    </tr>\n",
       "  </thead>\n",
       "  <tbody>\n",
       "    <tr>\n",
       "      <td>0</td>\n",
       "      <td>1</td>\n",
       "      <td>AR7G5I41187FB4CE6C</td>\n",
       "      <td>None</td>\n",
       "      <td>None</td>\n",
       "      <td>London, England</td>\n",
       "      <td>Adam Ant</td>\n",
       "      <td>SONHOTT12A8C13493C</td>\n",
       "      <td>Something Girls</td>\n",
       "      <td>233.40363</td>\n",
       "      <td>1982</td>\n",
       "    </tr>\n",
       "  </tbody>\n",
       "</table>\n",
       "</div>"
      ],
      "text/plain": [
       "   num_songs           artist_id artist_latitude artist_longitude  \\\n",
       "0          1  AR7G5I41187FB4CE6C            None             None   \n",
       "\n",
       "   artist_location artist_name             song_id            title  \\\n",
       "0  London, England    Adam Ant  SONHOTT12A8C13493C  Something Girls   \n",
       "\n",
       "    duration  year  \n",
       "0  233.40363  1982  "
      ]
     },
     "execution_count": 85,
     "metadata": {},
     "output_type": "execute_result"
    }
   ],
   "source": [
    "# Select columns for artist ID, name, location, latitude, and longitude\n",
    "df"
   ]
  },
  {
   "cell_type": "code",
   "execution_count": 86,
   "metadata": {},
   "outputs": [],
   "source": [
    "artist_data = [artist_id, artist_name, artist_location, artist_latitude, artist_longitude]"
   ]
  },
  {
   "cell_type": "code",
   "execution_count": 87,
   "metadata": {},
   "outputs": [
    {
     "data": {
      "text/plain": [
       "['AR7G5I41187FB4CE6C', 'Adam Ant', 'London, England', None, None]"
      ]
     },
     "execution_count": 87,
     "metadata": {},
     "output_type": "execute_result"
    }
   ],
   "source": [
    "artist_data"
   ]
  },
  {
   "cell_type": "code",
   "execution_count": 88,
   "metadata": {},
   "outputs": [],
   "source": [
    "cur.execute(artist_table_insert, artist_data)\n",
    "conn.commit()"
   ]
  },
  {
   "cell_type": "code",
   "execution_count": 89,
   "metadata": {},
   "outputs": [],
   "source": [
    "# now we can load song data\n",
    "cur.execute(song_table_insert, song_data)\n",
    "conn.commit()"
   ]
  },
  {
   "cell_type": "markdown",
   "metadata": {},
   "source": [
    "# Process log_data\n",
    "In this part, you'll perform ETL on the second dataset, log_data, to create the time and users dimensional tables, as well as the songplays fact table.\n",
    "\n",
    "Let's perform ETL on a single log file and load a single record into each table.\n",
    "\n",
    "* Use the get_files function provided above to get a list of all log JSON files in data/log_data\n",
    "* Select the first log file in this list\n",
    "* Read the log file and view the data"
   ]
  },
  {
   "cell_type": "code",
   "execution_count": 175,
   "metadata": {},
   "outputs": [],
   "source": [
    "log_files = get_files('data/log_data')"
   ]
  },
  {
   "cell_type": "code",
   "execution_count": 176,
   "metadata": {},
   "outputs": [
    {
     "data": {
      "text/plain": [
       "30"
      ]
     },
     "execution_count": 176,
     "metadata": {},
     "output_type": "execute_result"
    }
   ],
   "source": [
    "len(log_files)"
   ]
  },
  {
   "cell_type": "code",
   "execution_count": 177,
   "metadata": {},
   "outputs": [],
   "source": [
    "filepath = log_files[0]"
   ]
  },
  {
   "cell_type": "code",
   "execution_count": 178,
   "metadata": {},
   "outputs": [
    {
     "data": {
      "text/plain": [
       "'/Users/ggranda/Dropbox/data_eng/Postgres/udacity_Data_Modeling_with_Postgres/data/log_data/2018/11/2018-11-11-events.json'"
      ]
     },
     "execution_count": 178,
     "metadata": {},
     "output_type": "execute_result"
    }
   ],
   "source": [
    "filepath"
   ]
  },
  {
   "cell_type": "code",
   "execution_count": 185,
   "metadata": {},
   "outputs": [],
   "source": [
    "df2 = pd.read_json(filepath, lines=True)"
   ]
  },
  {
   "cell_type": "code",
   "execution_count": 180,
   "metadata": {},
   "outputs": [
    {
     "name": "stdout",
     "output_type": "stream",
     "text": [
      "<class 'pandas.core.frame.DataFrame'>\n",
      "RangeIndex: 95 entries, 0 to 94\n",
      "Data columns (total 18 columns):\n",
      "artist           73 non-null object\n",
      "auth             95 non-null object\n",
      "firstName        92 non-null object\n",
      "gender           92 non-null object\n",
      "itemInSession    95 non-null int64\n",
      "lastName         92 non-null object\n",
      "length           73 non-null float64\n",
      "level            95 non-null object\n",
      "location         92 non-null object\n",
      "method           95 non-null object\n",
      "page             95 non-null object\n",
      "registration     92 non-null float64\n",
      "sessionId        95 non-null int64\n",
      "song             73 non-null object\n",
      "status           95 non-null int64\n",
      "ts               95 non-null int64\n",
      "userAgent        92 non-null object\n",
      "userId           95 non-null object\n",
      "dtypes: float64(2), int64(4), object(12)\n",
      "memory usage: 13.5+ KB\n"
     ]
    }
   ],
   "source": [
    "df2.info()"
   ]
  },
  {
   "cell_type": "code",
   "execution_count": 126,
   "metadata": {},
   "outputs": [
    {
     "data": {
      "text/html": [
       "<div>\n",
       "<style scoped>\n",
       "    .dataframe tbody tr th:only-of-type {\n",
       "        vertical-align: middle;\n",
       "    }\n",
       "\n",
       "    .dataframe tbody tr th {\n",
       "        vertical-align: top;\n",
       "    }\n",
       "\n",
       "    .dataframe thead th {\n",
       "        text-align: right;\n",
       "    }\n",
       "</style>\n",
       "<table border=\"1\" class=\"dataframe\">\n",
       "  <thead>\n",
       "    <tr style=\"text-align: right;\">\n",
       "      <th></th>\n",
       "      <th>itemInSession</th>\n",
       "      <th>length</th>\n",
       "      <th>registration</th>\n",
       "      <th>sessionId</th>\n",
       "      <th>status</th>\n",
       "      <th>ts</th>\n",
       "    </tr>\n",
       "  </thead>\n",
       "  <tbody>\n",
       "    <tr>\n",
       "      <td>count</td>\n",
       "      <td>95.000000</td>\n",
       "      <td>73.000000</td>\n",
       "      <td>9.200000e+01</td>\n",
       "      <td>95.000000</td>\n",
       "      <td>95.000000</td>\n",
       "      <td>9.500000e+01</td>\n",
       "    </tr>\n",
       "    <tr>\n",
       "      <td>mean</td>\n",
       "      <td>4.010526</td>\n",
       "      <td>237.787905</td>\n",
       "      <td>1.540904e+12</td>\n",
       "      <td>423.357895</td>\n",
       "      <td>202.252632</td>\n",
       "      <td>1.541948e+12</td>\n",
       "    </tr>\n",
       "    <tr>\n",
       "      <td>std</td>\n",
       "      <td>4.006629</td>\n",
       "      <td>154.423459</td>\n",
       "      <td>1.371988e+08</td>\n",
       "      <td>63.833713</td>\n",
       "      <td>15.442390</td>\n",
       "      <td>1.645854e+07</td>\n",
       "    </tr>\n",
       "    <tr>\n",
       "      <td>min</td>\n",
       "      <td>0.000000</td>\n",
       "      <td>18.415870</td>\n",
       "      <td>1.540512e+12</td>\n",
       "      <td>120.000000</td>\n",
       "      <td>200.000000</td>\n",
       "      <td>1.541904e+12</td>\n",
       "    </tr>\n",
       "    <tr>\n",
       "      <td>25%</td>\n",
       "      <td>1.000000</td>\n",
       "      <td>189.622400</td>\n",
       "      <td>1.540794e+12</td>\n",
       "      <td>435.000000</td>\n",
       "      <td>200.000000</td>\n",
       "      <td>1.541939e+12</td>\n",
       "    </tr>\n",
       "    <tr>\n",
       "      <td>50%</td>\n",
       "      <td>3.000000</td>\n",
       "      <td>217.704040</td>\n",
       "      <td>1.540941e+12</td>\n",
       "      <td>437.000000</td>\n",
       "      <td>200.000000</td>\n",
       "      <td>1.541948e+12</td>\n",
       "    </tr>\n",
       "    <tr>\n",
       "      <td>75%</td>\n",
       "      <td>6.500000</td>\n",
       "      <td>259.839550</td>\n",
       "      <td>1.541020e+12</td>\n",
       "      <td>448.000000</td>\n",
       "      <td>200.000000</td>\n",
       "      <td>1.541962e+12</td>\n",
       "    </tr>\n",
       "    <tr>\n",
       "      <td>max</td>\n",
       "      <td>14.000000</td>\n",
       "      <td>1449.116280</td>\n",
       "      <td>1.541097e+12</td>\n",
       "      <td>480.000000</td>\n",
       "      <td>307.000000</td>\n",
       "      <td>1.541980e+12</td>\n",
       "    </tr>\n",
       "  </tbody>\n",
       "</table>\n",
       "</div>"
      ],
      "text/plain": [
       "       itemInSession       length  registration   sessionId      status  \\\n",
       "count      95.000000    73.000000  9.200000e+01   95.000000   95.000000   \n",
       "mean        4.010526   237.787905  1.540904e+12  423.357895  202.252632   \n",
       "std         4.006629   154.423459  1.371988e+08   63.833713   15.442390   \n",
       "min         0.000000    18.415870  1.540512e+12  120.000000  200.000000   \n",
       "25%         1.000000   189.622400  1.540794e+12  435.000000  200.000000   \n",
       "50%         3.000000   217.704040  1.540941e+12  437.000000  200.000000   \n",
       "75%         6.500000   259.839550  1.541020e+12  448.000000  200.000000   \n",
       "max        14.000000  1449.116280  1.541097e+12  480.000000  307.000000   \n",
       "\n",
       "                 ts  \n",
       "count  9.500000e+01  \n",
       "mean   1.541948e+12  \n",
       "std    1.645854e+07  \n",
       "min    1.541904e+12  \n",
       "25%    1.541939e+12  \n",
       "50%    1.541948e+12  \n",
       "75%    1.541962e+12  \n",
       "max    1.541980e+12  "
      ]
     },
     "execution_count": 126,
     "metadata": {},
     "output_type": "execute_result"
    }
   ],
   "source": [
    "df2.describe()"
   ]
  },
  {
   "cell_type": "code",
   "execution_count": 295,
   "metadata": {},
   "outputs": [
    {
     "data": {
      "text/html": [
       "<div>\n",
       "<style scoped>\n",
       "    .dataframe tbody tr th:only-of-type {\n",
       "        vertical-align: middle;\n",
       "    }\n",
       "\n",
       "    .dataframe tbody tr th {\n",
       "        vertical-align: top;\n",
       "    }\n",
       "\n",
       "    .dataframe thead th {\n",
       "        text-align: right;\n",
       "    }\n",
       "</style>\n",
       "<table border=\"1\" class=\"dataframe\">\n",
       "  <thead>\n",
       "    <tr style=\"text-align: right;\">\n",
       "      <th></th>\n",
       "      <th>artist</th>\n",
       "      <th>auth</th>\n",
       "      <th>firstName</th>\n",
       "      <th>gender</th>\n",
       "      <th>itemInSession</th>\n",
       "      <th>lastName</th>\n",
       "      <th>length</th>\n",
       "      <th>level</th>\n",
       "      <th>location</th>\n",
       "      <th>method</th>\n",
       "      <th>page</th>\n",
       "      <th>registration</th>\n",
       "      <th>sessionId</th>\n",
       "      <th>song</th>\n",
       "      <th>status</th>\n",
       "      <th>ts</th>\n",
       "      <th>userAgent</th>\n",
       "      <th>userId</th>\n",
       "    </tr>\n",
       "  </thead>\n",
       "  <tbody>\n",
       "    <tr>\n",
       "      <td>0</td>\n",
       "      <td>Frumpies</td>\n",
       "      <td>Logged In</td>\n",
       "      <td>Anabelle</td>\n",
       "      <td>F</td>\n",
       "      <td>0</td>\n",
       "      <td>Simpson</td>\n",
       "      <td>134.47791</td>\n",
       "      <td>free</td>\n",
       "      <td>Philadelphia-Camden-Wilmington, PA-NJ-DE-MD</td>\n",
       "      <td>PUT</td>\n",
       "      <td>NextSong</td>\n",
       "      <td>1.541044e+12</td>\n",
       "      <td>455</td>\n",
       "      <td>Fuck Kitty</td>\n",
       "      <td>200</td>\n",
       "      <td>2018-11-11 02:33:56.796</td>\n",
       "      <td>\"Mozilla/5.0 (Macintosh; Intel Mac OS X 10_9_4...</td>\n",
       "      <td>69</td>\n",
       "    </tr>\n",
       "    <tr>\n",
       "      <td>1</td>\n",
       "      <td>Kenny G with Peabo Bryson</td>\n",
       "      <td>Logged In</td>\n",
       "      <td>Anabelle</td>\n",
       "      <td>F</td>\n",
       "      <td>1</td>\n",
       "      <td>Simpson</td>\n",
       "      <td>264.75057</td>\n",
       "      <td>free</td>\n",
       "      <td>Philadelphia-Camden-Wilmington, PA-NJ-DE-MD</td>\n",
       "      <td>PUT</td>\n",
       "      <td>NextSong</td>\n",
       "      <td>1.541044e+12</td>\n",
       "      <td>455</td>\n",
       "      <td>By The Time This Night Is Over</td>\n",
       "      <td>200</td>\n",
       "      <td>2018-11-11 02:36:10.796</td>\n",
       "      <td>\"Mozilla/5.0 (Macintosh; Intel Mac OS X 10_9_4...</td>\n",
       "      <td>69</td>\n",
       "    </tr>\n",
       "    <tr>\n",
       "      <td>2</td>\n",
       "      <td>Biffy Clyro</td>\n",
       "      <td>Logged In</td>\n",
       "      <td>Anabelle</td>\n",
       "      <td>F</td>\n",
       "      <td>2</td>\n",
       "      <td>Simpson</td>\n",
       "      <td>189.83138</td>\n",
       "      <td>free</td>\n",
       "      <td>Philadelphia-Camden-Wilmington, PA-NJ-DE-MD</td>\n",
       "      <td>PUT</td>\n",
       "      <td>NextSong</td>\n",
       "      <td>1.541044e+12</td>\n",
       "      <td>455</td>\n",
       "      <td>God &amp; Satan</td>\n",
       "      <td>200</td>\n",
       "      <td>2018-11-11 02:40:34.796</td>\n",
       "      <td>\"Mozilla/5.0 (Macintosh; Intel Mac OS X 10_9_4...</td>\n",
       "      <td>69</td>\n",
       "    </tr>\n",
       "    <tr>\n",
       "      <td>4</td>\n",
       "      <td>HIM</td>\n",
       "      <td>Logged In</td>\n",
       "      <td>Lily</td>\n",
       "      <td>F</td>\n",
       "      <td>1</td>\n",
       "      <td>Burns</td>\n",
       "      <td>212.06159</td>\n",
       "      <td>free</td>\n",
       "      <td>New York-Newark-Jersey City, NY-NJ-PA</td>\n",
       "      <td>PUT</td>\n",
       "      <td>NextSong</td>\n",
       "      <td>1.540621e+12</td>\n",
       "      <td>456</td>\n",
       "      <td>Beautiful</td>\n",
       "      <td>200</td>\n",
       "      <td>2018-11-11 04:36:13.796</td>\n",
       "      <td>\"Mozilla/5.0 (Windows NT 6.1; WOW64) AppleWebK...</td>\n",
       "      <td>32</td>\n",
       "    </tr>\n",
       "    <tr>\n",
       "      <td>5</td>\n",
       "      <td>Matmos</td>\n",
       "      <td>Logged In</td>\n",
       "      <td>Joseph</td>\n",
       "      <td>M</td>\n",
       "      <td>0</td>\n",
       "      <td>Gutierrez</td>\n",
       "      <td>1449.11628</td>\n",
       "      <td>free</td>\n",
       "      <td>Columbia, SC</td>\n",
       "      <td>PUT</td>\n",
       "      <td>NextSong</td>\n",
       "      <td>1.540809e+12</td>\n",
       "      <td>284</td>\n",
       "      <td>Supreme Balloon</td>\n",
       "      <td>200</td>\n",
       "      <td>2018-11-11 04:36:46.796</td>\n",
       "      <td>\"Mozilla/5.0 (Macintosh; Intel Mac OS X 10_9_3...</td>\n",
       "      <td>75</td>\n",
       "    </tr>\n",
       "  </tbody>\n",
       "</table>\n",
       "</div>"
      ],
      "text/plain": [
       "                      artist       auth firstName gender  itemInSession  \\\n",
       "0                   Frumpies  Logged In  Anabelle      F              0   \n",
       "1  Kenny G with Peabo Bryson  Logged In  Anabelle      F              1   \n",
       "2                Biffy Clyro  Logged In  Anabelle      F              2   \n",
       "4                        HIM  Logged In      Lily      F              1   \n",
       "5                     Matmos  Logged In    Joseph      M              0   \n",
       "\n",
       "    lastName      length level                                     location  \\\n",
       "0    Simpson   134.47791  free  Philadelphia-Camden-Wilmington, PA-NJ-DE-MD   \n",
       "1    Simpson   264.75057  free  Philadelphia-Camden-Wilmington, PA-NJ-DE-MD   \n",
       "2    Simpson   189.83138  free  Philadelphia-Camden-Wilmington, PA-NJ-DE-MD   \n",
       "4      Burns   212.06159  free        New York-Newark-Jersey City, NY-NJ-PA   \n",
       "5  Gutierrez  1449.11628  free                                 Columbia, SC   \n",
       "\n",
       "  method      page  registration  sessionId                            song  \\\n",
       "0    PUT  NextSong  1.541044e+12        455                      Fuck Kitty   \n",
       "1    PUT  NextSong  1.541044e+12        455  By The Time This Night Is Over   \n",
       "2    PUT  NextSong  1.541044e+12        455                     God & Satan   \n",
       "4    PUT  NextSong  1.540621e+12        456                       Beautiful   \n",
       "5    PUT  NextSong  1.540809e+12        284                 Supreme Balloon   \n",
       "\n",
       "   status                      ts  \\\n",
       "0     200 2018-11-11 02:33:56.796   \n",
       "1     200 2018-11-11 02:36:10.796   \n",
       "2     200 2018-11-11 02:40:34.796   \n",
       "4     200 2018-11-11 04:36:13.796   \n",
       "5     200 2018-11-11 04:36:46.796   \n",
       "\n",
       "                                           userAgent userId  \n",
       "0  \"Mozilla/5.0 (Macintosh; Intel Mac OS X 10_9_4...     69  \n",
       "1  \"Mozilla/5.0 (Macintosh; Intel Mac OS X 10_9_4...     69  \n",
       "2  \"Mozilla/5.0 (Macintosh; Intel Mac OS X 10_9_4...     69  \n",
       "4  \"Mozilla/5.0 (Windows NT 6.1; WOW64) AppleWebK...     32  \n",
       "5  \"Mozilla/5.0 (Macintosh; Intel Mac OS X 10_9_3...     75  "
      ]
     },
     "execution_count": 295,
     "metadata": {},
     "output_type": "execute_result"
    }
   ],
   "source": [
    "df2.head()"
   ]
  },
  {
   "cell_type": "markdown",
   "metadata": {},
   "source": [
    "# 3: time Table\n",
    "Extract Data for Time Table\n",
    "* Filter records by NextSong action\n",
    "* Convert the ts timestamp column to datetime\n",
    "    * Hint: the current timestamp is in milliseconds\n",
    "* Extract the timestamp, hour, day, week of year, month, year, and weekday from the ts column and set time_data to a list containing these values in order\n",
    "    * Hint: use pandas' dt attribute to access easily datetimelike properties.\n",
    "* Specify labels for these columns and set to column_labels\n",
    "* Create a dataframe, time_df, containing the time data for this file by combining column_labels and time_data into a dictionary and converting this into a dataframe"
   ]
  },
  {
   "cell_type": "code",
   "execution_count": 190,
   "metadata": {},
   "outputs": [],
   "source": [
    "# filtering by nextsong and converting ts column to date time\n",
    "df2 = df2[df2['page'] == 'NextSong'].astype({'ts': 'datetime64[ms]'})"
   ]
  },
  {
   "cell_type": "code",
   "execution_count": 258,
   "metadata": {},
   "outputs": [
    {
     "data": {
      "text/plain": [
       "artist                   object\n",
       "auth                     object\n",
       "firstName                object\n",
       "gender                   object\n",
       "itemInSession             int64\n",
       "lastName                 object\n",
       "length                  float64\n",
       "level                    object\n",
       "location                 object\n",
       "method                   object\n",
       "page                     object\n",
       "registration            float64\n",
       "sessionId                 int64\n",
       "song                     object\n",
       "status                    int64\n",
       "ts               datetime64[ns]\n",
       "userAgent                object\n",
       "userId                   object\n",
       "dtype: object"
      ]
     },
     "execution_count": 258,
     "metadata": {},
     "output_type": "execute_result"
    }
   ],
   "source": [
    "df2.dtypes"
   ]
  },
  {
   "cell_type": "code",
   "execution_count": 192,
   "metadata": {},
   "outputs": [
    {
     "data": {
      "text/html": [
       "<div>\n",
       "<style scoped>\n",
       "    .dataframe tbody tr th:only-of-type {\n",
       "        vertical-align: middle;\n",
       "    }\n",
       "\n",
       "    .dataframe tbody tr th {\n",
       "        vertical-align: top;\n",
       "    }\n",
       "\n",
       "    .dataframe thead th {\n",
       "        text-align: right;\n",
       "    }\n",
       "</style>\n",
       "<table border=\"1\" class=\"dataframe\">\n",
       "  <thead>\n",
       "    <tr style=\"text-align: right;\">\n",
       "      <th></th>\n",
       "      <th>artist</th>\n",
       "      <th>auth</th>\n",
       "      <th>firstName</th>\n",
       "      <th>gender</th>\n",
       "      <th>itemInSession</th>\n",
       "      <th>lastName</th>\n",
       "      <th>length</th>\n",
       "      <th>level</th>\n",
       "      <th>location</th>\n",
       "      <th>method</th>\n",
       "      <th>page</th>\n",
       "      <th>registration</th>\n",
       "      <th>sessionId</th>\n",
       "      <th>song</th>\n",
       "      <th>status</th>\n",
       "      <th>ts</th>\n",
       "      <th>userAgent</th>\n",
       "      <th>userId</th>\n",
       "    </tr>\n",
       "  </thead>\n",
       "  <tbody>\n",
       "    <tr>\n",
       "      <td>0</td>\n",
       "      <td>Frumpies</td>\n",
       "      <td>Logged In</td>\n",
       "      <td>Anabelle</td>\n",
       "      <td>F</td>\n",
       "      <td>0</td>\n",
       "      <td>Simpson</td>\n",
       "      <td>134.47791</td>\n",
       "      <td>free</td>\n",
       "      <td>Philadelphia-Camden-Wilmington, PA-NJ-DE-MD</td>\n",
       "      <td>PUT</td>\n",
       "      <td>NextSong</td>\n",
       "      <td>1.541044e+12</td>\n",
       "      <td>455</td>\n",
       "      <td>Fuck Kitty</td>\n",
       "      <td>200</td>\n",
       "      <td>2018-11-11 02:33:56.796</td>\n",
       "      <td>\"Mozilla/5.0 (Macintosh; Intel Mac OS X 10_9_4...</td>\n",
       "      <td>69</td>\n",
       "    </tr>\n",
       "    <tr>\n",
       "      <td>1</td>\n",
       "      <td>Kenny G with Peabo Bryson</td>\n",
       "      <td>Logged In</td>\n",
       "      <td>Anabelle</td>\n",
       "      <td>F</td>\n",
       "      <td>1</td>\n",
       "      <td>Simpson</td>\n",
       "      <td>264.75057</td>\n",
       "      <td>free</td>\n",
       "      <td>Philadelphia-Camden-Wilmington, PA-NJ-DE-MD</td>\n",
       "      <td>PUT</td>\n",
       "      <td>NextSong</td>\n",
       "      <td>1.541044e+12</td>\n",
       "      <td>455</td>\n",
       "      <td>By The Time This Night Is Over</td>\n",
       "      <td>200</td>\n",
       "      <td>2018-11-11 02:36:10.796</td>\n",
       "      <td>\"Mozilla/5.0 (Macintosh; Intel Mac OS X 10_9_4...</td>\n",
       "      <td>69</td>\n",
       "    </tr>\n",
       "    <tr>\n",
       "      <td>2</td>\n",
       "      <td>Biffy Clyro</td>\n",
       "      <td>Logged In</td>\n",
       "      <td>Anabelle</td>\n",
       "      <td>F</td>\n",
       "      <td>2</td>\n",
       "      <td>Simpson</td>\n",
       "      <td>189.83138</td>\n",
       "      <td>free</td>\n",
       "      <td>Philadelphia-Camden-Wilmington, PA-NJ-DE-MD</td>\n",
       "      <td>PUT</td>\n",
       "      <td>NextSong</td>\n",
       "      <td>1.541044e+12</td>\n",
       "      <td>455</td>\n",
       "      <td>God &amp; Satan</td>\n",
       "      <td>200</td>\n",
       "      <td>2018-11-11 02:40:34.796</td>\n",
       "      <td>\"Mozilla/5.0 (Macintosh; Intel Mac OS X 10_9_4...</td>\n",
       "      <td>69</td>\n",
       "    </tr>\n",
       "    <tr>\n",
       "      <td>4</td>\n",
       "      <td>HIM</td>\n",
       "      <td>Logged In</td>\n",
       "      <td>Lily</td>\n",
       "      <td>F</td>\n",
       "      <td>1</td>\n",
       "      <td>Burns</td>\n",
       "      <td>212.06159</td>\n",
       "      <td>free</td>\n",
       "      <td>New York-Newark-Jersey City, NY-NJ-PA</td>\n",
       "      <td>PUT</td>\n",
       "      <td>NextSong</td>\n",
       "      <td>1.540621e+12</td>\n",
       "      <td>456</td>\n",
       "      <td>Beautiful</td>\n",
       "      <td>200</td>\n",
       "      <td>2018-11-11 04:36:13.796</td>\n",
       "      <td>\"Mozilla/5.0 (Windows NT 6.1; WOW64) AppleWebK...</td>\n",
       "      <td>32</td>\n",
       "    </tr>\n",
       "    <tr>\n",
       "      <td>5</td>\n",
       "      <td>Matmos</td>\n",
       "      <td>Logged In</td>\n",
       "      <td>Joseph</td>\n",
       "      <td>M</td>\n",
       "      <td>0</td>\n",
       "      <td>Gutierrez</td>\n",
       "      <td>1449.11628</td>\n",
       "      <td>free</td>\n",
       "      <td>Columbia, SC</td>\n",
       "      <td>PUT</td>\n",
       "      <td>NextSong</td>\n",
       "      <td>1.540809e+12</td>\n",
       "      <td>284</td>\n",
       "      <td>Supreme Balloon</td>\n",
       "      <td>200</td>\n",
       "      <td>2018-11-11 04:36:46.796</td>\n",
       "      <td>\"Mozilla/5.0 (Macintosh; Intel Mac OS X 10_9_3...</td>\n",
       "      <td>75</td>\n",
       "    </tr>\n",
       "  </tbody>\n",
       "</table>\n",
       "</div>"
      ],
      "text/plain": [
       "                      artist       auth firstName gender  itemInSession  \\\n",
       "0                   Frumpies  Logged In  Anabelle      F              0   \n",
       "1  Kenny G with Peabo Bryson  Logged In  Anabelle      F              1   \n",
       "2                Biffy Clyro  Logged In  Anabelle      F              2   \n",
       "4                        HIM  Logged In      Lily      F              1   \n",
       "5                     Matmos  Logged In    Joseph      M              0   \n",
       "\n",
       "    lastName      length level                                     location  \\\n",
       "0    Simpson   134.47791  free  Philadelphia-Camden-Wilmington, PA-NJ-DE-MD   \n",
       "1    Simpson   264.75057  free  Philadelphia-Camden-Wilmington, PA-NJ-DE-MD   \n",
       "2    Simpson   189.83138  free  Philadelphia-Camden-Wilmington, PA-NJ-DE-MD   \n",
       "4      Burns   212.06159  free        New York-Newark-Jersey City, NY-NJ-PA   \n",
       "5  Gutierrez  1449.11628  free                                 Columbia, SC   \n",
       "\n",
       "  method      page  registration  sessionId                            song  \\\n",
       "0    PUT  NextSong  1.541044e+12        455                      Fuck Kitty   \n",
       "1    PUT  NextSong  1.541044e+12        455  By The Time This Night Is Over   \n",
       "2    PUT  NextSong  1.541044e+12        455                     God & Satan   \n",
       "4    PUT  NextSong  1.540621e+12        456                       Beautiful   \n",
       "5    PUT  NextSong  1.540809e+12        284                 Supreme Balloon   \n",
       "\n",
       "   status                      ts  \\\n",
       "0     200 2018-11-11 02:33:56.796   \n",
       "1     200 2018-11-11 02:36:10.796   \n",
       "2     200 2018-11-11 02:40:34.796   \n",
       "4     200 2018-11-11 04:36:13.796   \n",
       "5     200 2018-11-11 04:36:46.796   \n",
       "\n",
       "                                           userAgent userId  \n",
       "0  \"Mozilla/5.0 (Macintosh; Intel Mac OS X 10_9_4...     69  \n",
       "1  \"Mozilla/5.0 (Macintosh; Intel Mac OS X 10_9_4...     69  \n",
       "2  \"Mozilla/5.0 (Macintosh; Intel Mac OS X 10_9_4...     69  \n",
       "4  \"Mozilla/5.0 (Windows NT 6.1; WOW64) AppleWebK...     32  \n",
       "5  \"Mozilla/5.0 (Macintosh; Intel Mac OS X 10_9_3...     75  "
      ]
     },
     "execution_count": 192,
     "metadata": {},
     "output_type": "execute_result"
    }
   ],
   "source": [
    "df2.head()"
   ]
  },
  {
   "cell_type": "code",
   "execution_count": 266,
   "metadata": {},
   "outputs": [
    {
     "data": {
      "text/plain": [
       "pandas.core.series.Series"
      ]
     },
     "execution_count": 266,
     "metadata": {},
     "output_type": "execute_result"
    }
   ],
   "source": [
    "t = pd.Series(df2['ts'], index=df2.index)\n",
    "type(t)"
   ]
  },
  {
   "cell_type": "code",
   "execution_count": null,
   "metadata": {},
   "outputs": [],
   "source": [
    "column_labels = [\"timestamp\", \"hour\", \"day\", \"weekofyear\", \"month\", \"year\", \"weekday\"]"
   ]
  },
  {
   "cell_type": "code",
   "execution_count": 267,
   "metadata": {},
   "outputs": [],
   "source": [
    "# Extract the timestamp, hour, day, week of year, month, year, and weekday from the ts column and set time_data to \n",
    "# a list containing these values in order\n",
    "time_data = []\n",
    "for data in t:\n",
    "    time_data.append([data, data.hour, data.day, data.weekofyear, data.month, data.year, data.day_name()])"
   ]
  },
  {
   "cell_type": "code",
   "execution_count": 268,
   "metadata": {},
   "outputs": [
    {
     "data": {
      "text/plain": [
       "[[Timestamp('2018-11-11 02:33:56.796000'), 2, 11, 45, 11, 2018, 'Sunday'],\n",
       " [Timestamp('2018-11-11 02:36:10.796000'), 2, 11, 45, 11, 2018, 'Sunday'],\n",
       " [Timestamp('2018-11-11 02:40:34.796000'), 2, 11, 45, 11, 2018, 'Sunday'],\n",
       " [Timestamp('2018-11-11 04:36:13.796000'), 4, 11, 45, 11, 2018, 'Sunday'],\n",
       " [Timestamp('2018-11-11 04:36:46.796000'), 4, 11, 45, 11, 2018, 'Sunday']]"
      ]
     },
     "execution_count": 268,
     "metadata": {},
     "output_type": "execute_result"
    }
   ],
   "source": [
    "time_data[0:5]"
   ]
  },
  {
   "cell_type": "code",
   "execution_count": 269,
   "metadata": {},
   "outputs": [
    {
     "data": {
      "text/plain": [
       "list"
      ]
     },
     "execution_count": 269,
     "metadata": {},
     "output_type": "execute_result"
    }
   ],
   "source": [
    "type(time_data)"
   ]
  },
  {
   "cell_type": "code",
   "execution_count": 273,
   "metadata": {},
   "outputs": [
    {
     "data": {
      "text/html": [
       "<div>\n",
       "<style scoped>\n",
       "    .dataframe tbody tr th:only-of-type {\n",
       "        vertical-align: middle;\n",
       "    }\n",
       "\n",
       "    .dataframe tbody tr th {\n",
       "        vertical-align: top;\n",
       "    }\n",
       "\n",
       "    .dataframe thead th {\n",
       "        text-align: right;\n",
       "    }\n",
       "</style>\n",
       "<table border=\"1\" class=\"dataframe\">\n",
       "  <thead>\n",
       "    <tr style=\"text-align: right;\">\n",
       "      <th></th>\n",
       "      <th>timestamp</th>\n",
       "      <th>hour</th>\n",
       "      <th>day</th>\n",
       "      <th>weekofyear</th>\n",
       "      <th>month</th>\n",
       "      <th>year</th>\n",
       "      <th>weekday</th>\n",
       "    </tr>\n",
       "  </thead>\n",
       "  <tbody>\n",
       "    <tr>\n",
       "      <td>0</td>\n",
       "      <td>2018-11-11 02:33:56.796</td>\n",
       "      <td>2</td>\n",
       "      <td>11</td>\n",
       "      <td>45</td>\n",
       "      <td>11</td>\n",
       "      <td>2018</td>\n",
       "      <td>Sunday</td>\n",
       "    </tr>\n",
       "    <tr>\n",
       "      <td>1</td>\n",
       "      <td>2018-11-11 02:36:10.796</td>\n",
       "      <td>2</td>\n",
       "      <td>11</td>\n",
       "      <td>45</td>\n",
       "      <td>11</td>\n",
       "      <td>2018</td>\n",
       "      <td>Sunday</td>\n",
       "    </tr>\n",
       "    <tr>\n",
       "      <td>2</td>\n",
       "      <td>2018-11-11 02:40:34.796</td>\n",
       "      <td>2</td>\n",
       "      <td>11</td>\n",
       "      <td>45</td>\n",
       "      <td>11</td>\n",
       "      <td>2018</td>\n",
       "      <td>Sunday</td>\n",
       "    </tr>\n",
       "    <tr>\n",
       "      <td>3</td>\n",
       "      <td>2018-11-11 04:36:13.796</td>\n",
       "      <td>4</td>\n",
       "      <td>11</td>\n",
       "      <td>45</td>\n",
       "      <td>11</td>\n",
       "      <td>2018</td>\n",
       "      <td>Sunday</td>\n",
       "    </tr>\n",
       "    <tr>\n",
       "      <td>4</td>\n",
       "      <td>2018-11-11 04:36:46.796</td>\n",
       "      <td>4</td>\n",
       "      <td>11</td>\n",
       "      <td>45</td>\n",
       "      <td>11</td>\n",
       "      <td>2018</td>\n",
       "      <td>Sunday</td>\n",
       "    </tr>\n",
       "  </tbody>\n",
       "</table>\n",
       "</div>"
      ],
      "text/plain": [
       "                timestamp  hour  day  weekofyear  month  year weekday\n",
       "0 2018-11-11 02:33:56.796     2   11          45     11  2018  Sunday\n",
       "1 2018-11-11 02:36:10.796     2   11          45     11  2018  Sunday\n",
       "2 2018-11-11 02:40:34.796     2   11          45     11  2018  Sunday\n",
       "3 2018-11-11 04:36:13.796     4   11          45     11  2018  Sunday\n",
       "4 2018-11-11 04:36:46.796     4   11          45     11  2018  Sunday"
      ]
     },
     "execution_count": 273,
     "metadata": {},
     "output_type": "execute_result"
    }
   ],
   "source": [
    "time_df = pd.DataFrame.from_records(data = time_data, columns = column_labels)\n",
    "time_df.head()"
   ]
  },
  {
   "cell_type": "markdown",
   "metadata": {},
   "source": [
    "#### Insert Records into Time Table\n",
    "Implement the time_table_insert query in sql_queries.py and run the cell below to insert records for the timestamps in this log file into the time table. Remember to run create_tables.py before running the cell below to ensure you've created/resetted the time table in the sparkify database."
   ]
  },
  {
   "cell_type": "code",
   "execution_count": 294,
   "metadata": {},
   "outputs": [],
   "source": [
    "for index, row in time_df.iterrows():\n",
    "    cur.execute(time_table_insert, list(row))\n",
    "    conn.commit()"
   ]
  },
  {
   "cell_type": "markdown",
   "metadata": {},
   "source": [
    "### 4: users Table\n",
    "Extract Data for Users Table\n",
    "Select columns for user ID, first name, last name, gender and level and set to user_df"
   ]
  },
  {
   "cell_type": "code",
   "execution_count": 304,
   "metadata": {},
   "outputs": [
    {
     "name": "stdout",
     "output_type": "stream",
     "text": [
      "<class 'pandas.core.frame.DataFrame'>\n",
      "Int64Index: 73 entries, 0 to 94\n",
      "Data columns (total 18 columns):\n",
      "artist           73 non-null object\n",
      "auth             73 non-null object\n",
      "firstName        73 non-null object\n",
      "gender           73 non-null object\n",
      "itemInSession    73 non-null int64\n",
      "lastName         73 non-null object\n",
      "length           73 non-null float64\n",
      "level            73 non-null object\n",
      "location         73 non-null object\n",
      "method           73 non-null object\n",
      "page             73 non-null object\n",
      "registration     73 non-null float64\n",
      "sessionId        73 non-null int64\n",
      "song             73 non-null object\n",
      "status           73 non-null int64\n",
      "ts               73 non-null datetime64[ns]\n",
      "userAgent        73 non-null object\n",
      "userId           73 non-null object\n",
      "dtypes: datetime64[ns](1), float64(2), int64(3), object(12)\n",
      "memory usage: 13.3+ KB\n"
     ]
    }
   ],
   "source": [
    "df2.info()"
   ]
  },
  {
   "cell_type": "code",
   "execution_count": 366,
   "metadata": {},
   "outputs": [],
   "source": [
    "user_df = df2[['userId', 'firstName', 'lastName', 'gender', 'level']]"
   ]
  },
  {
   "cell_type": "code",
   "execution_count": 380,
   "metadata": {},
   "outputs": [
    {
     "data": {
      "text/plain": [
       "73"
      ]
     },
     "execution_count": 380,
     "metadata": {},
     "output_type": "execute_result"
    }
   ],
   "source": [
    "# total rows in dataframe\n",
    "len(user_df)"
   ]
  },
  {
   "cell_type": "code",
   "execution_count": 382,
   "metadata": {},
   "outputs": [
    {
     "data": {
      "text/plain": [
       "15"
      ]
     },
     "execution_count": 382,
     "metadata": {},
     "output_type": "execute_result"
    }
   ],
   "source": [
    "# only 15 user_id uniques will be inserted in table\n",
    "len(user_df.userId.unique())"
   ]
  },
  {
   "cell_type": "markdown",
   "metadata": {},
   "source": [
    "#### Insert Records into Users Table\n",
    "Implement the user_table_insert query in sql_queries.py and run the cell below to insert records for the users in this log file into the users table. Remember to run create_tables.py before running the cell below to ensure you've created/resetted the users table in the sparkify database."
   ]
  },
  {
   "cell_type": "code",
   "execution_count": 368,
   "metadata": {},
   "outputs": [],
   "source": [
    "for i, row in user_df.iterrows():\n",
    "    cur.execute(user_table_insert, row)\n",
    "    conn.commit()"
   ]
  },
  {
   "cell_type": "code",
   "execution_count": 397,
   "metadata": {},
   "outputs": [
    {
     "name": "stdout",
     "output_type": "stream",
     "text": [
      "15 records succefully inserted\n"
     ]
    }
   ],
   "source": [
    "cur.execute(\"SELECT COUNT(*) FROM public.users\")\n",
    "count = cur.fetchone()[0]\n",
    "print(count, \"records succefully inserted\")"
   ]
  },
  {
   "cell_type": "markdown",
   "metadata": {},
   "source": [
    "## 5: songplays Table\n",
    "Extract Data and Songplays Table\n",
    "This one is a little more complicated since information from the songs table, artists table, and original log file are all needed for the songplays table. Since the log file does not specify an ID for either the song or the artist, you'll need to get the song ID and artist ID by querying the songs and artists tables to find matches based on song title, artist name, and song duration time.\n",
    "\n",
    "* Implement the song_select query in sql_queries.py to find the song ID and artist ID based on the title, artist name, and duration of a song.\n",
    "* Select the timestamp, user ID, level, song ID, artist ID, session ID, location, and user agent and set to songplay_data"
   ]
  },
  {
   "cell_type": "code",
   "execution_count": 398,
   "metadata": {},
   "outputs": [
    {
     "data": {
      "text/html": [
       "<div>\n",
       "<style scoped>\n",
       "    .dataframe tbody tr th:only-of-type {\n",
       "        vertical-align: middle;\n",
       "    }\n",
       "\n",
       "    .dataframe tbody tr th {\n",
       "        vertical-align: top;\n",
       "    }\n",
       "\n",
       "    .dataframe thead th {\n",
       "        text-align: right;\n",
       "    }\n",
       "</style>\n",
       "<table border=\"1\" class=\"dataframe\">\n",
       "  <thead>\n",
       "    <tr style=\"text-align: right;\">\n",
       "      <th></th>\n",
       "      <th>artist</th>\n",
       "      <th>auth</th>\n",
       "      <th>firstName</th>\n",
       "      <th>gender</th>\n",
       "      <th>itemInSession</th>\n",
       "      <th>lastName</th>\n",
       "      <th>length</th>\n",
       "      <th>level</th>\n",
       "      <th>location</th>\n",
       "      <th>method</th>\n",
       "      <th>page</th>\n",
       "      <th>registration</th>\n",
       "      <th>sessionId</th>\n",
       "      <th>song</th>\n",
       "      <th>status</th>\n",
       "      <th>ts</th>\n",
       "      <th>userAgent</th>\n",
       "      <th>userId</th>\n",
       "    </tr>\n",
       "  </thead>\n",
       "  <tbody>\n",
       "    <tr>\n",
       "      <td>0</td>\n",
       "      <td>Frumpies</td>\n",
       "      <td>Logged In</td>\n",
       "      <td>Anabelle</td>\n",
       "      <td>F</td>\n",
       "      <td>0</td>\n",
       "      <td>Simpson</td>\n",
       "      <td>134.47791</td>\n",
       "      <td>free</td>\n",
       "      <td>Philadelphia-Camden-Wilmington, PA-NJ-DE-MD</td>\n",
       "      <td>PUT</td>\n",
       "      <td>NextSong</td>\n",
       "      <td>1.541044e+12</td>\n",
       "      <td>455</td>\n",
       "      <td>Fuck Kitty</td>\n",
       "      <td>200</td>\n",
       "      <td>2018-11-11 02:33:56.796</td>\n",
       "      <td>\"Mozilla/5.0 (Macintosh; Intel Mac OS X 10_9_4...</td>\n",
       "      <td>69</td>\n",
       "    </tr>\n",
       "    <tr>\n",
       "      <td>1</td>\n",
       "      <td>Kenny G with Peabo Bryson</td>\n",
       "      <td>Logged In</td>\n",
       "      <td>Anabelle</td>\n",
       "      <td>F</td>\n",
       "      <td>1</td>\n",
       "      <td>Simpson</td>\n",
       "      <td>264.75057</td>\n",
       "      <td>free</td>\n",
       "      <td>Philadelphia-Camden-Wilmington, PA-NJ-DE-MD</td>\n",
       "      <td>PUT</td>\n",
       "      <td>NextSong</td>\n",
       "      <td>1.541044e+12</td>\n",
       "      <td>455</td>\n",
       "      <td>By The Time This Night Is Over</td>\n",
       "      <td>200</td>\n",
       "      <td>2018-11-11 02:36:10.796</td>\n",
       "      <td>\"Mozilla/5.0 (Macintosh; Intel Mac OS X 10_9_4...</td>\n",
       "      <td>69</td>\n",
       "    </tr>\n",
       "    <tr>\n",
       "      <td>2</td>\n",
       "      <td>Biffy Clyro</td>\n",
       "      <td>Logged In</td>\n",
       "      <td>Anabelle</td>\n",
       "      <td>F</td>\n",
       "      <td>2</td>\n",
       "      <td>Simpson</td>\n",
       "      <td>189.83138</td>\n",
       "      <td>free</td>\n",
       "      <td>Philadelphia-Camden-Wilmington, PA-NJ-DE-MD</td>\n",
       "      <td>PUT</td>\n",
       "      <td>NextSong</td>\n",
       "      <td>1.541044e+12</td>\n",
       "      <td>455</td>\n",
       "      <td>God &amp; Satan</td>\n",
       "      <td>200</td>\n",
       "      <td>2018-11-11 02:40:34.796</td>\n",
       "      <td>\"Mozilla/5.0 (Macintosh; Intel Mac OS X 10_9_4...</td>\n",
       "      <td>69</td>\n",
       "    </tr>\n",
       "    <tr>\n",
       "      <td>4</td>\n",
       "      <td>HIM</td>\n",
       "      <td>Logged In</td>\n",
       "      <td>Lily</td>\n",
       "      <td>F</td>\n",
       "      <td>1</td>\n",
       "      <td>Burns</td>\n",
       "      <td>212.06159</td>\n",
       "      <td>free</td>\n",
       "      <td>New York-Newark-Jersey City, NY-NJ-PA</td>\n",
       "      <td>PUT</td>\n",
       "      <td>NextSong</td>\n",
       "      <td>1.540621e+12</td>\n",
       "      <td>456</td>\n",
       "      <td>Beautiful</td>\n",
       "      <td>200</td>\n",
       "      <td>2018-11-11 04:36:13.796</td>\n",
       "      <td>\"Mozilla/5.0 (Windows NT 6.1; WOW64) AppleWebK...</td>\n",
       "      <td>32</td>\n",
       "    </tr>\n",
       "    <tr>\n",
       "      <td>5</td>\n",
       "      <td>Matmos</td>\n",
       "      <td>Logged In</td>\n",
       "      <td>Joseph</td>\n",
       "      <td>M</td>\n",
       "      <td>0</td>\n",
       "      <td>Gutierrez</td>\n",
       "      <td>1449.11628</td>\n",
       "      <td>free</td>\n",
       "      <td>Columbia, SC</td>\n",
       "      <td>PUT</td>\n",
       "      <td>NextSong</td>\n",
       "      <td>1.540809e+12</td>\n",
       "      <td>284</td>\n",
       "      <td>Supreme Balloon</td>\n",
       "      <td>200</td>\n",
       "      <td>2018-11-11 04:36:46.796</td>\n",
       "      <td>\"Mozilla/5.0 (Macintosh; Intel Mac OS X 10_9_3...</td>\n",
       "      <td>75</td>\n",
       "    </tr>\n",
       "    <tr>\n",
       "      <td>...</td>\n",
       "      <td>...</td>\n",
       "      <td>...</td>\n",
       "      <td>...</td>\n",
       "      <td>...</td>\n",
       "      <td>...</td>\n",
       "      <td>...</td>\n",
       "      <td>...</td>\n",
       "      <td>...</td>\n",
       "      <td>...</td>\n",
       "      <td>...</td>\n",
       "      <td>...</td>\n",
       "      <td>...</td>\n",
       "      <td>...</td>\n",
       "      <td>...</td>\n",
       "      <td>...</td>\n",
       "      <td>...</td>\n",
       "      <td>...</td>\n",
       "      <td>...</td>\n",
       "    </tr>\n",
       "    <tr>\n",
       "      <td>90</td>\n",
       "      <td>Sidewalk Prophets</td>\n",
       "      <td>Logged In</td>\n",
       "      <td>Molly</td>\n",
       "      <td>F</td>\n",
       "      <td>0</td>\n",
       "      <td>Taylor</td>\n",
       "      <td>260.62322</td>\n",
       "      <td>free</td>\n",
       "      <td>St. Louis, MO-IL</td>\n",
       "      <td>PUT</td>\n",
       "      <td>NextSong</td>\n",
       "      <td>1.540993e+12</td>\n",
       "      <td>464</td>\n",
       "      <td>You Love Me Anyway (Album)</td>\n",
       "      <td>200</td>\n",
       "      <td>2018-11-11 21:09:28.796</td>\n",
       "      <td>\"Mozilla/5.0 (X11; Linux x86_64) AppleWebKit/5...</td>\n",
       "      <td>35</td>\n",
       "    </tr>\n",
       "    <tr>\n",
       "      <td>91</td>\n",
       "      <td>Rise Against</td>\n",
       "      <td>Logged In</td>\n",
       "      <td>Molly</td>\n",
       "      <td>F</td>\n",
       "      <td>1</td>\n",
       "      <td>Taylor</td>\n",
       "      <td>221.17832</td>\n",
       "      <td>free</td>\n",
       "      <td>St. Louis, MO-IL</td>\n",
       "      <td>PUT</td>\n",
       "      <td>NextSong</td>\n",
       "      <td>1.540993e+12</td>\n",
       "      <td>464</td>\n",
       "      <td>Torches</td>\n",
       "      <td>200</td>\n",
       "      <td>2018-11-11 21:13:48.796</td>\n",
       "      <td>\"Mozilla/5.0 (X11; Linux x86_64) AppleWebKit/5...</td>\n",
       "      <td>35</td>\n",
       "    </tr>\n",
       "    <tr>\n",
       "      <td>92</td>\n",
       "      <td>K'Naan</td>\n",
       "      <td>Logged In</td>\n",
       "      <td>Molly</td>\n",
       "      <td>F</td>\n",
       "      <td>2</td>\n",
       "      <td>Taylor</td>\n",
       "      <td>220.49914</td>\n",
       "      <td>free</td>\n",
       "      <td>St. Louis, MO-IL</td>\n",
       "      <td>PUT</td>\n",
       "      <td>NextSong</td>\n",
       "      <td>1.540993e+12</td>\n",
       "      <td>464</td>\n",
       "      <td>Wavin'  Flag</td>\n",
       "      <td>200</td>\n",
       "      <td>2018-11-11 21:17:29.796</td>\n",
       "      <td>\"Mozilla/5.0 (X11; Linux x86_64) AppleWebKit/5...</td>\n",
       "      <td>35</td>\n",
       "    </tr>\n",
       "    <tr>\n",
       "      <td>93</td>\n",
       "      <td>Patrick Jumpen</td>\n",
       "      <td>Logged In</td>\n",
       "      <td>Ryan</td>\n",
       "      <td>M</td>\n",
       "      <td>0</td>\n",
       "      <td>Smith</td>\n",
       "      <td>208.87465</td>\n",
       "      <td>free</td>\n",
       "      <td>San Jose-Sunnyvale-Santa Clara, CA</td>\n",
       "      <td>PUT</td>\n",
       "      <td>NextSong</td>\n",
       "      <td>1.541017e+12</td>\n",
       "      <td>480</td>\n",
       "      <td>Holiday</td>\n",
       "      <td>200</td>\n",
       "      <td>2018-11-11 23:39:00.796</td>\n",
       "      <td>\"Mozilla/5.0 (X11; Linux x86_64) AppleWebKit/5...</td>\n",
       "      <td>26</td>\n",
       "    </tr>\n",
       "    <tr>\n",
       "      <td>94</td>\n",
       "      <td>Alicia Keys</td>\n",
       "      <td>Logged In</td>\n",
       "      <td>Ryan</td>\n",
       "      <td>M</td>\n",
       "      <td>1</td>\n",
       "      <td>Smith</td>\n",
       "      <td>216.47628</td>\n",
       "      <td>free</td>\n",
       "      <td>San Jose-Sunnyvale-Santa Clara, CA</td>\n",
       "      <td>PUT</td>\n",
       "      <td>NextSong</td>\n",
       "      <td>1.541017e+12</td>\n",
       "      <td>480</td>\n",
       "      <td>Empire State Of Mind (Part II) Broken Down</td>\n",
       "      <td>200</td>\n",
       "      <td>2018-11-11 23:42:28.796</td>\n",
       "      <td>\"Mozilla/5.0 (X11; Linux x86_64) AppleWebKit/5...</td>\n",
       "      <td>26</td>\n",
       "    </tr>\n",
       "  </tbody>\n",
       "</table>\n",
       "<p>73 rows × 18 columns</p>\n",
       "</div>"
      ],
      "text/plain": [
       "                       artist       auth firstName gender  itemInSession  \\\n",
       "0                    Frumpies  Logged In  Anabelle      F              0   \n",
       "1   Kenny G with Peabo Bryson  Logged In  Anabelle      F              1   \n",
       "2                 Biffy Clyro  Logged In  Anabelle      F              2   \n",
       "4                         HIM  Logged In      Lily      F              1   \n",
       "5                      Matmos  Logged In    Joseph      M              0   \n",
       "..                        ...        ...       ...    ...            ...   \n",
       "90          Sidewalk Prophets  Logged In     Molly      F              0   \n",
       "91               Rise Against  Logged In     Molly      F              1   \n",
       "92                     K'Naan  Logged In     Molly      F              2   \n",
       "93             Patrick Jumpen  Logged In      Ryan      M              0   \n",
       "94                Alicia Keys  Logged In      Ryan      M              1   \n",
       "\n",
       "     lastName      length level                                     location  \\\n",
       "0     Simpson   134.47791  free  Philadelphia-Camden-Wilmington, PA-NJ-DE-MD   \n",
       "1     Simpson   264.75057  free  Philadelphia-Camden-Wilmington, PA-NJ-DE-MD   \n",
       "2     Simpson   189.83138  free  Philadelphia-Camden-Wilmington, PA-NJ-DE-MD   \n",
       "4       Burns   212.06159  free        New York-Newark-Jersey City, NY-NJ-PA   \n",
       "5   Gutierrez  1449.11628  free                                 Columbia, SC   \n",
       "..        ...         ...   ...                                          ...   \n",
       "90     Taylor   260.62322  free                             St. Louis, MO-IL   \n",
       "91     Taylor   221.17832  free                             St. Louis, MO-IL   \n",
       "92     Taylor   220.49914  free                             St. Louis, MO-IL   \n",
       "93      Smith   208.87465  free           San Jose-Sunnyvale-Santa Clara, CA   \n",
       "94      Smith   216.47628  free           San Jose-Sunnyvale-Santa Clara, CA   \n",
       "\n",
       "   method      page  registration  sessionId  \\\n",
       "0     PUT  NextSong  1.541044e+12        455   \n",
       "1     PUT  NextSong  1.541044e+12        455   \n",
       "2     PUT  NextSong  1.541044e+12        455   \n",
       "4     PUT  NextSong  1.540621e+12        456   \n",
       "5     PUT  NextSong  1.540809e+12        284   \n",
       "..    ...       ...           ...        ...   \n",
       "90    PUT  NextSong  1.540993e+12        464   \n",
       "91    PUT  NextSong  1.540993e+12        464   \n",
       "92    PUT  NextSong  1.540993e+12        464   \n",
       "93    PUT  NextSong  1.541017e+12        480   \n",
       "94    PUT  NextSong  1.541017e+12        480   \n",
       "\n",
       "                                          song  status  \\\n",
       "0                                   Fuck Kitty     200   \n",
       "1               By The Time This Night Is Over     200   \n",
       "2                                  God & Satan     200   \n",
       "4                                    Beautiful     200   \n",
       "5                              Supreme Balloon     200   \n",
       "..                                         ...     ...   \n",
       "90                  You Love Me Anyway (Album)     200   \n",
       "91                                     Torches     200   \n",
       "92                                Wavin'  Flag     200   \n",
       "93                                     Holiday     200   \n",
       "94  Empire State Of Mind (Part II) Broken Down     200   \n",
       "\n",
       "                        ts                                          userAgent  \\\n",
       "0  2018-11-11 02:33:56.796  \"Mozilla/5.0 (Macintosh; Intel Mac OS X 10_9_4...   \n",
       "1  2018-11-11 02:36:10.796  \"Mozilla/5.0 (Macintosh; Intel Mac OS X 10_9_4...   \n",
       "2  2018-11-11 02:40:34.796  \"Mozilla/5.0 (Macintosh; Intel Mac OS X 10_9_4...   \n",
       "4  2018-11-11 04:36:13.796  \"Mozilla/5.0 (Windows NT 6.1; WOW64) AppleWebK...   \n",
       "5  2018-11-11 04:36:46.796  \"Mozilla/5.0 (Macintosh; Intel Mac OS X 10_9_3...   \n",
       "..                     ...                                                ...   \n",
       "90 2018-11-11 21:09:28.796  \"Mozilla/5.0 (X11; Linux x86_64) AppleWebKit/5...   \n",
       "91 2018-11-11 21:13:48.796  \"Mozilla/5.0 (X11; Linux x86_64) AppleWebKit/5...   \n",
       "92 2018-11-11 21:17:29.796  \"Mozilla/5.0 (X11; Linux x86_64) AppleWebKit/5...   \n",
       "93 2018-11-11 23:39:00.796  \"Mozilla/5.0 (X11; Linux x86_64) AppleWebKit/5...   \n",
       "94 2018-11-11 23:42:28.796  \"Mozilla/5.0 (X11; Linux x86_64) AppleWebKit/5...   \n",
       "\n",
       "   userId  \n",
       "0      69  \n",
       "1      69  \n",
       "2      69  \n",
       "4      32  \n",
       "5      75  \n",
       "..    ...  \n",
       "90     35  \n",
       "91     35  \n",
       "92     35  \n",
       "93     26  \n",
       "94     26  \n",
       "\n",
       "[73 rows x 18 columns]"
      ]
     },
     "execution_count": 398,
     "metadata": {},
     "output_type": "execute_result"
    }
   ],
   "source": [
    "df2"
   ]
  },
  {
   "cell_type": "code",
   "execution_count": 402,
   "metadata": {},
   "outputs": [],
   "source": [
    "for index, row in df2.iterrows():\n",
    "\n",
    "    # get songid and artistid from song and artist tables\n",
    "    cur.execute(song_select, (row.song, row.artist, row.length))\n",
    "    results = cur.fetchone()\n",
    "    \n",
    "    if results:\n",
    "        songid, artistid = results\n",
    "    else:\n",
    "        songid, artistid = None, None\n",
    "\n",
    "    # insert songplay record\n",
    "    songplay_data = (row.ts, row.userId, row.level, songid, artistid, row.sessionId, row.location, row.userAgent)\n",
    "    cur.execute(songplay_table_insert, songplay_data)\n",
    "    conn.commit()"
   ]
  },
  {
   "cell_type": "code",
   "execution_count": 403,
   "metadata": {},
   "outputs": [],
   "source": [
    "conn.close()"
   ]
  },
  {
   "cell_type": "code",
   "execution_count": null,
   "metadata": {},
   "outputs": [],
   "source": []
  },
  {
   "cell_type": "code",
   "execution_count": null,
   "metadata": {},
   "outputs": [],
   "source": []
  }
 ],
 "metadata": {
  "kernelspec": {
   "display_name": "Python 3",
   "language": "python",
   "name": "python3"
  },
  "language_info": {
   "codemirror_mode": {
    "name": "ipython",
    "version": 3
   },
   "file_extension": ".py",
   "mimetype": "text/x-python",
   "name": "python",
   "nbconvert_exporter": "python",
   "pygments_lexer": "ipython3",
   "version": "3.7.4"
  }
 },
 "nbformat": 4,
 "nbformat_minor": 2
}
